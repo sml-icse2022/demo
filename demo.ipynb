{
 "cells": [
  {
   "cell_type": "markdown",
   "id": "ce92ba63-83a5-4e50-b477-8821e868d533",
   "metadata": {},
   "source": [
    "# SapientML ICSE 2022 Reproduction Demo"
   ]
  },
  {
   "cell_type": "code",
   "execution_count": null,
   "id": "ce3bbbe5",
   "metadata": {},
   "outputs": [],
   "source": [
    "import pandas as pd"
   ]
  },
  {
   "cell_type": "markdown",
   "id": "5445c3f4",
   "metadata": {},
   "source": [
    "## NOTE: This demo supports only the datasets under `benchmarks` directory"
   ]
  },
  {
   "cell_type": "code",
   "execution_count": null,
   "id": "d63f5411",
   "metadata": {},
   "outputs": [],
   "source": [
    "!ls benchmarks"
   ]
  },
  {
   "cell_type": "code",
   "execution_count": null,
   "id": "adbb5ad7",
   "metadata": {},
   "outputs": [],
   "source": [
    "df = pd.read_pickle('benchmarks/housing-prices.pkl')\n",
    "df"
   ]
  },
  {
   "cell_type": "markdown",
   "id": "8e4e5446",
   "metadata": {},
   "source": [
    "## Generate pipeline code"
   ]
  },
  {
   "cell_type": "code",
   "execution_count": null,
   "id": "fecfb1ea",
   "metadata": {},
   "outputs": [],
   "source": [
    "from sapientml.generator import SapientMLGenerator"
   ]
  },
  {
   "cell_type": "code",
   "execution_count": null,
   "id": "ccf2018a",
   "metadata": {
    "scrolled": true
   },
   "outputs": [],
   "source": [
    "gen = SapientMLGenerator()\n",
    "gen.generate_code(dataframe=df, random_seed_id=1)"
   ]
  },
  {
   "cell_type": "markdown",
   "id": "74b7e0aa",
   "metadata": {},
   "source": [
    "## Pipeline code and train/test data are generated under `outputs` directory"
   ]
  },
  {
   "cell_type": "code",
   "execution_count": null,
   "id": "0f3b7368",
   "metadata": {
    "scrolled": true
   },
   "outputs": [],
   "source": [
    "cd outputs"
   ]
  },
  {
   "cell_type": "code",
   "execution_count": null,
   "id": "16831bff",
   "metadata": {},
   "outputs": [],
   "source": [
    "!ls"
   ]
  },
  {
   "cell_type": "markdown",
   "id": "d26d6532",
   "metadata": {},
   "source": [
    "## Generated pipeline code is ready to execute"
   ]
  },
  {
   "cell_type": "code",
   "execution_count": null,
   "id": "4969e95e",
   "metadata": {
    "scrolled": true
   },
   "outputs": [],
   "source": [
    "!cat pipeline.py"
   ]
  },
  {
   "cell_type": "code",
   "execution_count": null,
   "id": "1ed6b217",
   "metadata": {
    "scrolled": true
   },
   "outputs": [],
   "source": [
    "!python pipeline.py"
   ]
  },
  {
   "cell_type": "code",
   "execution_count": null,
   "id": "48a43cd2",
   "metadata": {},
   "outputs": [],
   "source": [
    "cd .."
   ]
  }
 ],
 "metadata": {
  "kernelspec": {
   "display_name": "Python 3 (ipykernel)",
   "language": "python",
   "name": "python3"
  },
  "language_info": {
   "codemirror_mode": {
    "name": "ipython",
    "version": 3
   },
   "file_extension": ".py",
   "mimetype": "text/x-python",
   "name": "python",
   "nbconvert_exporter": "python",
   "pygments_lexer": "ipython3",
   "version": "3.9.6"
  }
 },
 "nbformat": 4,
 "nbformat_minor": 5
}
